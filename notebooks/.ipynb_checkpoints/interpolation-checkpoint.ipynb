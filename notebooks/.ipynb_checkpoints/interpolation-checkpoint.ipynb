{
 "cells": [
  {
   "cell_type": "code",
   "execution_count": 5,
   "id": "40d4af94-3bba-4fa5-814b-7624a0d4b9d9",
   "metadata": {},
   "outputs": [],
   "source": [
    "import sys\n",
    "import os\n",
    "sys.path.append(os.path.dirname(os.getcwd())) # Add parent directory to path\n",
    "\n",
    "# Import required libraries\n",
    "import torch \n",
    "import numpy as np\n",
    "import seaborn as sns\n",
    "import matplotlib.pyplot as plt\n",
    "from model import VAE\n",
    "import pandas as pd"
   ]
  },
  {
   "cell_type": "markdown",
   "id": "05819929-8e13-47e0-8466-b927ecd6130d",
   "metadata": {},
   "source": [
    "## import model"
   ]
  },
  {
   "cell_type": "code",
   "execution_count": 7,
   "id": "2863a56e-11e6-442f-a165-2e2750627e38",
   "metadata": {},
   "outputs": [
    {
     "name": "stdout",
     "output_type": "stream",
     "text": [
      "Using device: cpu\n"
     ]
    }
   ],
   "source": [
    "# Model parameters\n",
    "input_dim = 13125\n",
    "hidden_dim = 256\n",
    "latent_dim = 32\n",
    "batch_size = 2048\n",
    "\n",
    "# Load the model and set device\n",
    "device = torch.device(\"cuda\" if torch.cuda.is_available() else \"cpu\")\n",
    "print(f\"Using device: {device}\")\n",
    "\n",
    "# Initialize and load the model (plant distribution model)\n",
    "model = VAE(input_dim, hidden_dim, latent_dim, input_dim).to(device)\n",
    "model_path = '../model/model_all_regions.pth'\n",
    "state_dict = torch.load(model_path, map_location=device)\n",
    "model.load_state_dict(state_dict)\n",
    "model = model.to(device)\n",
    "\n",
    "# Function to process data in batches\n",
    "def apply_model(model, data, batch_size=2048, device='cuda'):\n",
    "    \"\"\"\n",
    "    Apply the VAE model to input data in batches\n",
    "    \n",
    "    Args:\n",
    "        model: The VAE model\n",
    "        data: Input tensor data\n",
    "        batch_size: Size of batches to process\n",
    "        device: Computing device (cuda/cpu)\n",
    "    \n",
    "    Returns:\n",
    "        Concatenated tensor of reconstructed data\n",
    "    \"\"\"\n",
    "    model.eval()\n",
    "    num_samples = data.size(0)\n",
    "    recon_x_list = []\n",
    "\n",
    "    with torch.no_grad():\n",
    "        for i in range(0, num_samples, batch_size):\n",
    "            batch = data[i:i+batch_size].to(device)\n",
    "            batch_recon_x, _, _ = model(batch)\n",
    "            recon_x_list.append(batch_recon_x.cpu())\n",
    "\n",
    "    return torch.cat(recon_x_list, dim=0)"
   ]
  },
  {
   "cell_type": "markdown",
   "id": "cd27cd2c-981a-4970-85a8-16fe52a94c93",
   "metadata": {},
   "source": [
    "### import data and apply the model"
   ]
  },
  {
   "cell_type": "code",
   "execution_count": 8,
   "id": "c67de2bd-05ba-436f-8d87-eb68a8a480cf",
   "metadata": {},
   "outputs": [
    {
     "name": "stdout",
     "output_type": "stream",
     "text": [
      "Input data shape: torch.Size([561, 13125])\n",
      "Results shape: torch.Size([561, 13125])\n",
      "Results saved to ../data/interpolation/interpolation_results.npy\n"
     ]
    }
   ],
   "source": [
    "# Load input data, plant distribution data with 561 grids\n",
    "input_data = torch.FloatTensor(np.load('../data/interpolation/interpolation_input.npy'))\n",
    "print(f\"Input data shape: {input_data.shape}\")\n",
    "\n",
    "# Apply the model\n",
    "results = apply_model(model, input_data, batch_size=batch_size, device=device)\n",
    "print(f\"Results shape: {results.shape}\")\n",
    "\n",
    "# Save results\n",
    "output_file = '../data/interpolation/interpolation_results.npy'\n",
    "np.save(output_file, results.numpy())\n",
    "print(f\"Results saved to {output_file}\")"
   ]
  },
  {
   "cell_type": "markdown",
   "id": "be8289c1-0cdc-4660-9819-56373752a95d",
   "metadata": {},
   "source": [
    "### visualize interplated data"
   ]
  },
  {
   "cell_type": "code",
   "execution_count": 29,
   "id": "33e7bacc-6f64-4c1d-935c-52d3720cf738",
   "metadata": {},
   "outputs": [
    {
     "name": "stdout",
     "output_type": "stream",
     "text": [
      "Number of genera: 13125\n"
     ]
    },
    {
     "data": {
      "image/png": "[encoded data removed]",
      "text/plain": [
       "<Figure size 300x300 with 1 Axes>"
      ]
     },
     "metadata": {},
     "output_type": "display_data"
    }
   ],
   "source": [
    "# Load genus list for visualization\n",
    "genus_list = np.load('../data/interaction/genus_list.npy', allow_pickle=True).item()\n",
    "genus_name = np.array([key for key, value in genus_list.items()])\n",
    "print(f\"Number of genera: {len(genus_name)}\")\n",
    "\n",
    "# Process results for visualization\n",
    "results_array = results.numpy()\n",
    "prob_mask = results_array > 0.5\n",
    "genus_counts = prob_mask.sum(axis=0)  # Count occurrences per genus\n",
    "\n",
    "## Get top 10 genera by count\n",
    "top_10_indices = np.argsort(genus_counts)[-10:][::-1]  # Reverse to get descending order\n",
    "top_10_genera = genus_name[top_10_indices]\n",
    "top_10_counts = genus_counts[top_10_indices]\n",
    "\n",
    "# Create horizontal bar plot\n",
    "plt.figure(figsize=(3, 3))\n",
    "bars = plt.barh(range(len(top_10_genera)), top_10_counts[::-1], color='skyblue')\n",
    "\n",
    "# Customize the plot\n",
    "plt.xlabel('Number of grids', fontsize=7)\n",
    "plt.ylabel('Genus', fontsize=7)\n",
    "\n",
    "# Set genus names on y-axis\n",
    "plt.yticks(range(len(top_10_genera)), top_10_genera[::-1], fontsize=7)\n",
    "\n",
    "# Set x-axis tick label size\n",
    "plt.xticks(fontsize=7)\n",
    "\n",
    "# Add value labels at the end of each bar\n",
    "for bar in bars:\n",
    "    width = bar.get_width()\n",
    "    plt.text(width, bar.get_y() + bar.get_height()/2,\n",
    "             f'{int(width)}',\n",
    "             ha='left', va='center', fontsize=7,\n",
    "             bbox=dict(facecolor='none', edgecolor='none', alpha=0.7))\n",
    "plt.show()\n"
   ]
  },
  {
   "cell_type": "code",
   "execution_count": null,
   "id": "84c2567f-a385-4c61-962c-95ef010f9a53",
   "metadata": {},
   "outputs": [],
   "source": []
  }
 ],
 "metadata": {
  "kernelspec": {
   "display_name": "Python 3 (ipykernel)",
   "language": "python",
   "name": "python3"
  },
  "language_info": {
   "codemirror_mode": {
    "name": "ipython",
    "version": 3
   },
   "file_extension": ".py",
   "mimetype": "text/x-python",
   "name": "python",
   "nbconvert_exporter": "python",
   "pygments_lexer": "ipython3",
   "version": "3.8.16"
  }
 },
 "nbformat": 4,
 "nbformat_minor": 5
}
